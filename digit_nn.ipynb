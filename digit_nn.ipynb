{
 "cells": [
  {
   "cell_type": "code",
   "execution_count": null,
   "id": "57d1f6e4-02c7-4ee5-8595-5ea438c46fc2",
   "metadata": {
    "id": "57d1f6e4-02c7-4ee5-8595-5ea438c46fc2"
   },
   "outputs": [],
   "source": [
    "import numpy as np\n",
    "import hw6_utils\n",
    "from hw6_utils import load_MNIST\n",
    "\n",
    "np.random.seed(2024)\n",
    "\n",
    "batch_size = 32\n",
    "\n",
    "normalize_vals = (0.1307, 0.3081)\n",
    "\n",
    "# load MNIST dataset\n",
    "train_dataset, test_dataset, train_loader, test_loader = load_MNIST(batch_size, normalize_vals)"
   ]
  },
  {
   "cell_type": "markdown",
   "id": "kI-jK4f4JFkc",
   "metadata": {
    "id": "kI-jK4f4JFkc"
   },
   "source": [
    "**Build CNN**"
   ]
  },
  {
   "cell_type": "code",
   "execution_count": null,
   "id": "AOakXcoqJrqk",
   "metadata": {
    "id": "AOakXcoqJrqk"
   },
   "outputs": [],
   "source": [
    "import torch\n",
    "import torchvision\n",
    "import torchvision.transforms as transforms\n",
    "import torch.nn as nn\n",
    "import torch.nn.functional as F\n",
    "import torch.optim as optim\n",
    "import matplotlib.pyplot as plt\n",
    "import numpy as np"
   ]
  },
  {
   "cell_type": "code",
   "execution_count": null,
   "id": "38090cdb-f597-4f21-83c8-4132396dfb88",
   "metadata": {
    "id": "38090cdb-f597-4f21-83c8-4132396dfb88"
   },
   "outputs": [],
   "source": [
    "class Net(nn.Module):\n",
    "  def __init__(self):\n",
    "    super().__init__()\n",
    "    self.conv1 = nn.Conv2d(in_channels = 1, out_channels = 20, kernel_size = 3, stride = 1, dilation = 1, bias = True) # convolution layer\n",
    "    self.pool = nn.MaxPool2d(kernel_size = 2, stride = 2) # max pooling\n",
    "    self.dropout = nn.Dropout(p = 0.5) # dropout layer\n",
    "\n",
    "    self.fc1 = nn.Linear(in_features = 20 * 13 * 13, out_features = 128) # fully connected layer 1\n",
    "    self.fc2 = nn.Linear(in_features = 128, out_features = 10) # fully connected layer 2\n",
    "\n",
    "  def forward(self, x):\n",
    "    x = self.pool(F.relu(self.conv1(x))) # apply convolution, relu, pool\n",
    "    x = self.dropout(x) # apply dropout\n",
    "    x = torch.flatten(x, 1) # flatten\n",
    "    x = F.relu(self.fc1(x)) # apply relu to fully connected layer 1\n",
    "    x = self.dropout(x) # apply dropout again\n",
    "    x = self.fc2(x) # apply relu to fully connected layer 2\n",
    "    return x\n",
    "\n",
    "net = Net()"
   ]
  },
  {
   "cell_type": "code",
   "execution_count": null,
   "id": "QXliWmfOMeut",
   "metadata": {
    "colab": {
     "base_uri": "https://localhost:8080/"
    },
    "id": "QXliWmfOMeut",
    "outputId": "35518c8a-71cd-49ce-a28c-46515f55a21b"
   },
   "outputs": [
    {
     "name": "stdout",
     "output_type": "stream",
     "text": [
      "Epoch: 0\n",
      "Train Loss: 0.9235468217730523\n",
      "Train Error: 0.20299999999999996\n",
      "Test Loss: 0.40809471160173416\n",
      "Test Error: 0.10909999999999997\n",
      "Epoch: 1\n",
      "Train Loss: 0.3643887309273084\n",
      "Train Error: 0.10124999999999995\n",
      "Test Loss: 0.3083455439347524\n",
      "Test Error: 0.08630000000000004\n",
      "Epoch: 2\n",
      "Train Loss: 0.3026581007540226\n",
      "Train Error: 0.0869833333333333\n",
      "Test Loss: 0.26953066606967213\n",
      "Test Error: 0.0776\n",
      "Epoch: 3\n",
      "Train Loss: 0.2689956039249897\n",
      "Train Error: 0.07796666666666663\n",
      "Test Loss: 0.24321220117136122\n",
      "Test Error: 0.07099999999999995\n",
      "Epoch: 4\n",
      "Train Loss: 0.2439123853156964\n",
      "Train Error: 0.0702166666666667\n",
      "Test Loss: 0.22231752265054291\n",
      "Test Error: 0.0655\n",
      "Epoch: 5\n",
      "Train Loss: 0.22316654348274073\n",
      "Train Error: 0.06398333333333328\n",
      "Test Loss: 0.20453669005832353\n",
      "Test Error: 0.06000000000000005\n",
      "Epoch: 6\n",
      "Train Loss: 0.20544747035553057\n",
      "Train Error: 0.05864999999999998\n",
      "Test Loss: 0.1891803349808644\n",
      "Test Error: 0.05449999999999999\n",
      "Epoch: 7\n",
      "Train Loss: 0.18986423053046067\n",
      "Train Error: 0.054200000000000026\n",
      "Test Loss: 0.17575055783162244\n",
      "Test Error: 0.05030000000000001\n",
      "Finished Training\n"
     ]
    }
   ],
   "source": [
    "criterion = nn.CrossEntropyLoss()\n",
    "optimizer = optim.SGD(net.parameters())\n",
    "\n",
    "for epoch in range(8):\n",
    "\n",
    "  # training phase\n",
    "  net.train()\n",
    "\n",
    "  # initialize summary statistics\n",
    "  running_train_loss = 0.0\n",
    "  correct_train_predictions = 0\n",
    "  total_train_predictions = 0\n",
    "\n",
    "  # loop through training data\n",
    "  for i, data in enumerate(train_loader, 0):\n",
    "\n",
    "    # get the inputs\n",
    "    inputs, labels = data\n",
    "\n",
    "    # zero out the parameter gradients\n",
    "    optimizer.zero_grad()\n",
    "\n",
    "    # forward, backward, and then optimize\n",
    "    outputs = net(inputs)\n",
    "    loss = criterion(outputs, labels)\n",
    "    loss.backward()\n",
    "    optimizer.step()\n",
    "\n",
    "    # accumulate info to summary statistics\n",
    "    running_train_loss += loss.item()\n",
    "    _, predicted = torch.max(outputs.data, 1)\n",
    "    total_train_predictions += labels.size(0)\n",
    "    correct_train_predictions += (predicted == labels).sum().item()\n",
    "\n",
    "    train_loss = running_train_loss / len(train_loader)\n",
    "    train_error = 1 - correct_train_predictions / total_train_predictions\n",
    "\n",
    "    # evaluation phase\n",
    "    net.eval()\n",
    "\n",
    "    # initialize summary statistics\n",
    "    running_test_loss = 0.0\n",
    "    correct_test_predictions = 0\n",
    "    total_test_predictions = 0\n",
    "\n",
    "  # compute test predictions\n",
    "  with torch.no_grad():\n",
    "    for data in test_loader:\n",
    "      images, labels = data\n",
    "      outputs = net(images)\n",
    "      loss = criterion(outputs, labels)\n",
    "      running_test_loss += loss.item()\n",
    "      _, predicted = torch.max(outputs.data, 1)\n",
    "      total_test_predictions += labels.size(0)\n",
    "      correct_test_predictions += (predicted == labels).sum().item()\n",
    "\n",
    "  test_loss = running_test_loss / len(test_loader)\n",
    "  test_error = 1 - correct_test_predictions / total_test_predictions\n",
    "\n",
    "  # print summary statistics\n",
    "  print(f'Epoch: {epoch}')\n",
    "  print(f'Train Loss: {train_loss}')\n",
    "  print(f'Train Error: {train_error}')\n",
    "  print(f'Test Loss: {test_loss}')\n",
    "  print(f'Test Error: {test_error}')\n",
    "\n",
    "\n",
    "\n",
    "print('Finished Training')\n",
    "\n",
    "PATH = './mnist_net.pth'\n",
    "torch.save(net.state_dict(), PATH)"
   ]
  },
  {
   "cell_type": "code",
   "execution_count": null,
   "id": "Ovu8A08Vzfrz",
   "metadata": {
    "colab": {
     "base_uri": "https://localhost:8080/"
    },
    "id": "Ovu8A08Vzfrz",
    "outputId": "dccaaaad-a674-474f-82c4-c903504d4cb4"
   },
   "outputs": [
    {
     "name": "stdout",
     "output_type": "stream",
     "text": [
      "Accuracy of the network: 0.9497\n"
     ]
    }
   ],
   "source": [
    "# see how the network performs on the test set\n",
    "correct = 0\n",
    "total = 0\n",
    "\n",
    "with torch.no_grad():\n",
    "  for data in test_loader:\n",
    "    images, labels = data\n",
    "\n",
    "    # calculate outputs by running images through the network\n",
    "    outputs = net(images)\n",
    "\n",
    "    # the class with the highest energy is the prediction\n",
    "    _, predicted = torch.max(outputs.data, 1)\n",
    "    total += labels.size(0)\n",
    "    correct += (predicted == labels).sum().item()\n",
    "\n",
    "print(f\"Accuracy of the network: {correct / total}\")"
   ]
  },
  {
   "cell_type": "code",
   "execution_count": null,
   "id": "7lQeTtiQT5dI",
   "metadata": {
    "colab": {
     "base_uri": "https://localhost:8080/",
     "height": 241
    },
    "id": "7lQeTtiQT5dI",
    "outputId": "88331572-8014-4c10-c39a-adb2d0ef00fe"
   },
   "outputs": [
    {
     "data": {
      "image/png": "[encoded data removed]",
      "text/plain": [
       "<Figure size 1000x1000 with 5 Axes>"
      ]
     },
     "metadata": {},
     "output_type": "display_data"
    }
   ],
   "source": [
    "import matplotlib.pyplot as plt\n",
    "\n",
    "# track misclassified images\n",
    "misclassified = []\n",
    "max_to_show = 5\n",
    "\n",
    "for inputs, labels in test_loader:\n",
    "    # get predictions from the model\n",
    "    outputs = net(inputs)\n",
    "    _, predicted = torch.max(outputs, 1)\n",
    "\n",
    "    # find misclassified indices\n",
    "    misclass_indices = (predicted != labels).nonzero(as_tuple=True)[0]\n",
    "\n",
    "    # collect misclassified images and their details\n",
    "    for idx in misclass_indices:\n",
    "        if len(misclassified) < max_to_show:\n",
    "            misclassified.append((inputs[idx], predicted[idx], labels[idx]))\n",
    "        else:\n",
    "            break\n",
    "\n",
    "    if len(misclassified) >= max_to_show:\n",
    "        break\n",
    "\n",
    "# plot the misclassified images\n",
    "plt.figure(figsize=(10, 10))\n",
    "for i, (image, pred, true) in enumerate(misclassified):\n",
    "    plt.subplot(1, len(misclassified), i + 1)\n",
    "    # Convert the tensor to a numpy array if needed\n",
    "    plt.imshow(image.permute(1, 2, 0).cpu().numpy(), cmap=\"gray\")  # Assumes channel-first\n",
    "    plt.title(f\"Pred: {pred.item()}, True: {true.item()}\")\n",
    "    plt.axis(\"off\")\n",
    "plt.tight_layout()\n",
    "plt.show()\n"
   ]
  },
  {
   "cell_type": "markdown",
   "id": "b0b6625b-43d5-4d53-9110-ba80065e022c",
   "metadata": {
    "id": "b0b6625b-43d5-4d53-9110-ba80065e022c"
   },
   "source": [
    "To begin building the CNN, we had to load in the MNIST data using the given helper function and we chose an arbitrary batch size and made sure that the values were normalized. Normalizing the data doesn't allow for any of the pixels in the image to have a value outside of the range [0,1].\n",
    "\n",
    "Following the characteristics of building the network, we were able to build the framework for the net and move onto the training phase. I decided to choose 8 epochs because the change in loss was decreasing much slower while the accuracy was also improving by the time we had hit the final epoch. I also tried 10-15 epochs as well, but felt like the change was too small and could lead to overfitting in the end. For each epoch, we could see the summary statistics of train/test loss and train/test accuracy to get a feel for how our model was fitting the data. To get these statistics, we had to zero out the gradients, use cross entropy to compute the loss, backpropagate, and finally use stochastic gradient descent to optimize the network. The accuracy for our network was pretty high at about 95%.\n",
    "\n",
    "Despite our modeling having a really high accuracy, there were some misclassifications as expected. Let's dive into why the network may have made incorrect predictions for each image.\n",
    "\n",
    "Image 1: This is a poorly written digit and could go either way. If the lines were connected at the top like they should be, I would have thought it was a six as well.\n",
    "\n",
    "Image 2: I am not sure why the model predicted a six here, this image doesn't share many similarities and characteristics of a six.\n",
    "\n",
    "Image 3: With the top of the digit not being connected, this could easily have looked like a four to the model. The human eye would call that a nine, but again not a poor error.\n",
    "\n",
    "Image 4: This is a really poor nine as it shares a lot of characteristics that an eight should have. The lines are almost fully connected with the two loops that an eight would have. Not a bad miss here either.\n",
    "\n",
    "Image 5: I am assuming multiple classes had pretty even probabilities here as this digit doesn't seem to have correlation with any digit from the human eye.\n",
    "\n",
    "Overall, the models performance was really good at almost 95%. After analyzing some of the misclassifications a lot of them would have been really tough for the model to pick up and the model did a good job of getting as close as possible with near misses (classifying a four as a nine)."
   ]
  },
  {
   "cell_type": "markdown",
   "id": "bdc3199a-80a9-4a63-a2d7-56ed2d16755c",
   "metadata": {
    "id": "bdc3199a-80a9-4a63-a2d7-56ed2d16755c"
   },
   "source": [
    "---"
   ]
  }
 ],
 "metadata": {
  "colab": {
   "provenance": []
  },
  "kernelspec": {
   "display_name": "Python 3 (ipykernel)",
   "language": "python",
   "name": "python3"
  },
  "language_info": {
   "codemirror_mode": {
    "name": "ipython",
    "version": 3
   },
   "file_extension": ".py",
   "mimetype": "text/x-python",
   "name": "python",
   "nbconvert_exporter": "python",
   "pygments_lexer": "ipython3",
   "version": "3.12.4"
  }
 },
 "nbformat": 4,
 "nbformat_minor": 5
}
